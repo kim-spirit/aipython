{
  "nbformat": 4,
  "nbformat_minor": 0,
  "metadata": {
    "colab": {
      "provenance": [],
      "authorship_tag": "ABX9TyNIswe92Oq+5Cbt2LYLvPrI",
      "include_colab_link": true
    },
    "kernelspec": {
      "name": "python3",
      "display_name": "Python 3"
    },
    "language_info": {
      "name": "python"
    }
  },
  "cells": [
    {
      "cell_type": "markdown",
      "metadata": {
        "id": "view-in-github",
        "colab_type": "text"
      },
      "source": [
        "<a href=\"https://colab.research.google.com/github/kim-spirit/aipython/blob/main/20240412.ipynb\" target=\"_parent\"><img src=\"https://colab.research.google.com/assets/colab-badge.svg\" alt=\"Open In Colab\"/></a>"
      ]
    },
    {
      "cell_type": "code",
      "execution_count": 1,
      "metadata": {
        "colab": {
          "base_uri": "https://localhost:8080/",
          "height": 35
        },
        "id": "XvyxiLRKCikJ",
        "outputId": "9d6e5673-02c0-44df-d39b-35a624b24969"
      },
      "outputs": [
        {
          "output_type": "execute_result",
          "data": {
            "text/plain": [
              "'apple'"
            ],
            "application/vnd.google.colaboratory.intrinsic+json": {
              "type": "string"
            }
          },
          "metadata": {},
          "execution_count": 1
        }
      ],
      "source": [
        "#다음 리스트에서 \"apple\" 요소를 출력하시오\n",
        "fruits = [\"banana\", \"apple\", \"orange\", \"cherry\"]\n",
        "print(fruits[1])"
      ]
    },
    {
      "cell_type": "code",
      "source": [
        "#다음 리스트에서 마지막 요소를 출력하시오\n",
        "numbers = [10, 20, 30, 40, 50]\n",
        "numbers[4]"
      ],
      "metadata": {
        "colab": {
          "base_uri": "https://localhost:8080/"
        },
        "id": "TWCKx2BXC77o",
        "outputId": "45a27c1c-ec67-40b7-8ec3-0cafbe7990e6"
      },
      "execution_count": 3,
      "outputs": [
        {
          "output_type": "execute_result",
          "data": {
            "text/plain": [
              "50"
            ]
          },
          "metadata": {},
          "execution_count": 3
        }
      ]
    },
    {
      "cell_type": "code",
      "source": [
        "#다음 리스트에서 \"banana\" 요소를 \"grape\"로 변경하세요.\n",
        "fruits = [\"apple\", \"banana\", \"cherry\"]\n",
        "fruits.pop(1)\n",
        "fruits.insert(1,\"grape\")\n",
        "print(fruits)"
      ],
      "metadata": {
        "colab": {
          "base_uri": "https://localhost:8080/"
        },
        "id": "2PGnpKi3DHVX",
        "outputId": "2c468cd0-f1b0-46ee-d1a6-7193e4ae049e"
      },
      "execution_count": 6,
      "outputs": [
        {
          "output_type": "stream",
          "name": "stdout",
          "text": [
            "['apple', 'grape', 'cherry']\n"
          ]
        }
      ]
    },
    {
      "cell_type": "code",
      "source": [
        "#다음 리스트에서 30을 제거하세요\n",
        "numbers = [10, 20, 30, 40, 50]\n",
        "numbers.remove(30)\n",
        "print(numbers)"
      ],
      "metadata": {
        "colab": {
          "base_uri": "https://localhost:8080/"
        },
        "id": "TWSo1ktID0qA",
        "outputId": "a424fdf2-7fca-4840-9e19-aa0274455d61"
      },
      "execution_count": 7,
      "outputs": [
        {
          "output_type": "stream",
          "name": "stdout",
          "text": [
            "[10, 20, 40, 50]\n"
          ]
        }
      ]
    },
    {
      "cell_type": "code",
      "source": [
        "#다음 리스트의 길이를 출력하세요\n",
        "numbers = [5, 10, 15, 20, 25]\n",
        "print(len(numbers))"
      ],
      "metadata": {
        "colab": {
          "base_uri": "https://localhost:8080/"
        },
        "id": "hFP2cdu8EB_k",
        "outputId": "a8e28d84-d5c5-4470-a8b6-380ce2ed6053"
      },
      "execution_count": 8,
      "outputs": [
        {
          "output_type": "stream",
          "name": "stdout",
          "text": [
            "5\n"
          ]
        }
      ]
    },
    {
      "cell_type": "code",
      "source": [
        "#다음 리스트의 모든 요소의 합을 계산하여 출력하세요\n",
        "numbers = [10, 20, 30, 40, 50]\n",
        "print(sum(numbers))\n"
      ],
      "metadata": {
        "colab": {
          "base_uri": "https://localhost:8080/"
        },
        "id": "BthU0uuvENMb",
        "outputId": "d5c00c36-57c0-4b6e-cd9a-d79e3e218224"
      },
      "execution_count": 9,
      "outputs": [
        {
          "output_type": "stream",
          "name": "stdout",
          "text": [
            "150\n"
          ]
        }
      ]
    },
    {
      "cell_type": "code",
      "source": [
        "# 다음 리스트의 모든 요소를 제곱하여 새로운 리스트를 생성하세요\n",
        "numbers = [1, 2, 3, 4, 5]\n",
        "numbers = [x ** 2 for x in numbers]\n",
        "print(numbers)"
      ],
      "metadata": {
        "colab": {
          "base_uri": "https://localhost:8080/"
        },
        "id": "B_THIVGpEUUY",
        "outputId": "0088b005-55e6-4490-c06f-04d9fd8b27fd"
      },
      "execution_count": 23,
      "outputs": [
        {
          "output_type": "stream",
          "name": "stdout",
          "text": [
            "[1, 4, 9, 16, 25]\n"
          ]
        }
      ]
    },
    {
      "cell_type": "code",
      "source": [
        "# 리스트에 제곱하기 교수님 답안\n",
        "numbers = [1, 2, 3, 4, 5]\n",
        "newlist = []\n",
        "for num in numbers :\n",
        "  newlist.append(num**2)\n",
        "print(newlist)"
      ],
      "metadata": {
        "colab": {
          "base_uri": "https://localhost:8080/"
        },
        "id": "gNHS32cfGr86",
        "outputId": "5db0027c-b408-4017-884a-c9c355283872"
      },
      "execution_count": 42,
      "outputs": [
        {
          "output_type": "stream",
          "name": "stdout",
          "text": [
            "[1, 4, 9, 16, 25]\n"
          ]
        }
      ]
    },
    {
      "cell_type": "code",
      "source": [
        "#다음 리스트에서 \"apple\" 요소의 개수를 출력하세요.\n",
        "fruits = [\"apple\", \"banana\", \"cherry\", \"apple\", \"apple\"]\n",
        "print(fruits.count(\"apple\"))"
      ],
      "metadata": {
        "colab": {
          "base_uri": "https://localhost:8080/"
        },
        "id": "M7QvXD7mEhDA",
        "outputId": "dd703569-c9a3-448a-ffe2-21621ca9f72c"
      },
      "execution_count": 10,
      "outputs": [
        {
          "output_type": "stream",
          "name": "stdout",
          "text": [
            "3\n"
          ]
        }
      ]
    },
    {
      "cell_type": "code",
      "source": [
        "#반환값_1\n",
        "def square(x) :\n",
        "  return x ** 2\n"
      ],
      "metadata": {
        "id": "5Mzh4gGBLSLL"
      },
      "execution_count": 27,
      "outputs": []
    },
    {
      "cell_type": "code",
      "source": [
        "ret=square(7)\n",
        "print(ret)"
      ],
      "metadata": {
        "colab": {
          "base_uri": "https://localhost:8080/"
        },
        "id": "d_vpx83_Lgkb",
        "outputId": "cb1f080a-faf3-419e-dc72-e619f36d19a0"
      },
      "execution_count": 30,
      "outputs": [
        {
          "output_type": "stream",
          "name": "stdout",
          "text": [
            "49\n"
          ]
        }
      ]
    },
    {
      "cell_type": "code",
      "source": [
        "#반환값_2\n",
        "def square(x) :\n",
        "  result = x**2\n",
        "  return result"
      ],
      "metadata": {
        "id": "Nz5RnXEiL17s"
      },
      "execution_count": 31,
      "outputs": []
    },
    {
      "cell_type": "code",
      "source": [
        "print(square(6))"
      ],
      "metadata": {
        "colab": {
          "base_uri": "https://localhost:8080/"
        },
        "id": "GTzO6_AwL-4r",
        "outputId": "396edbc9-82dc-45a5-bffc-c92cb78dff73"
      },
      "execution_count": 32,
      "outputs": [
        {
          "output_type": "stream",
          "name": "stdout",
          "text": [
            "36\n"
          ]
        }
      ]
    },
    {
      "cell_type": "code",
      "source": [
        "#함수 만들기\n",
        "def square(numbers) :\n",
        "  newlist = []\n",
        "  for x in numbers:\n",
        "    newlist.append(x**2)\n",
        "  return newlist"
      ],
      "metadata": {
        "id": "vADHpIBhN1Mt"
      },
      "execution_count": 58,
      "outputs": []
    },
    {
      "cell_type": "code",
      "source": [
        "new = square([1,2,3,4,5])\n",
        "print(new)"
      ],
      "metadata": {
        "colab": {
          "base_uri": "https://localhost:8080/"
        },
        "id": "9gEWJClnOK3Y",
        "outputId": "440c710d-b76a-4b1c-9d06-3346772cf4d6"
      },
      "execution_count": 59,
      "outputs": [
        {
          "output_type": "stream",
          "name": "stdout",
          "text": [
            "[1, 4, 9, 16, 25]\n"
          ]
        }
      ]
    },
    {
      "cell_type": "code",
      "source": [
        "def BMI(h,w):\n",
        "  result = w / (h*0.01)**2\n",
        "  return result"
      ],
      "metadata": {
        "id": "U6WDiqdRPNpM"
      },
      "execution_count": 66,
      "outputs": []
    },
    {
      "cell_type": "code",
      "source": [
        "결과 = BMI(190,90)\n",
        "print(결과)\n",
        ""
      ],
      "metadata": {
        "colab": {
          "base_uri": "https://localhost:8080/"
        },
        "id": "kD47M4WyP949",
        "outputId": "cbc756bd-1c10-42de-e477-1778ead53669"
      },
      "execution_count": 68,
      "outputs": [
        {
          "output_type": "stream",
          "name": "stdout",
          "text": [
            "24.93074792243767\n"
          ]
        }
      ]
    }
  ]
}