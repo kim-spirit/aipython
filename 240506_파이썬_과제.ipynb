{
  "nbformat": 4,
  "nbformat_minor": 0,
  "metadata": {
    "colab": {
      "provenance": [],
      "authorship_tag": "ABX9TyOdtH3gj1p0q44c9mGmAwmM",
      "include_colab_link": true
    },
    "kernelspec": {
      "name": "python3",
      "display_name": "Python 3"
    },
    "language_info": {
      "name": "python"
    }
  },
  "cells": [
    {
      "cell_type": "markdown",
      "metadata": {
        "id": "view-in-github",
        "colab_type": "text"
      },
      "source": [
        "<a href=\"https://colab.research.google.com/github/kim-spirit/aipython/blob/main/240506_%ED%8C%8C%EC%9D%B4%EC%8D%AC_%EA%B3%BC%EC%A0%9C.ipynb\" target=\"_parent\"><img src=\"https://colab.research.google.com/assets/colab-badge.svg\" alt=\"Open In Colab\"/></a>"
      ]
    },
    {
      "cell_type": "code",
      "execution_count": 1,
      "metadata": {
        "colab": {
          "base_uri": "https://localhost:8080/"
        },
        "id": "6NwL_RQOdL-B",
        "outputId": "cd8a5893-d844-4874-b8ef-4734b2e5933e"
      },
      "outputs": [
        {
          "output_type": "stream",
          "name": "stdout",
          "text": [
            "과일의 종류 수를 입력하시오.5\n",
            "과일과 가격을 입력하세요(예 : 딸기 100) : 사과 1500\n",
            "과일과 가격을 입력하세요(예 : 딸기 100) : 키위 500\n",
            "과일과 가격을 입력하세요(예 : 딸기 100) : 오렌지 1000\n",
            "과일과 가격을 입력하세요(예 : 딸기 100) : 자몽 2000\n",
            "과일과 가격을 입력하세요(예 : 딸기 100) : 바나나 500\n",
            "구매한 과일과 개수를 입력하세요 (종료하려면 '종료' 입력): 사과 5\n",
            "구매한 과일과 개수를 입력하세요 (종료하려면 '종료' 입력): 키위 10\n",
            "구매한 과일과 개수를 입력하세요 (종료하려면 '종료' 입력): 자몽 10\n",
            "구매한 과일과 개수를 입력하세요 (종료하려면 '종료' 입력): 종료\n",
            "총 가격은 32500 원입니다.\n"
          ]
        }
      ],
      "source": [
        "#과일 가격 총합\n",
        "def f_total_price(fruits, fruit_prices) :\n",
        "    total_price = 0\n",
        "    for fruit, quantity in fruits.items():\n",
        "        if fruit in fruit_prices :\n",
        "            total_price += fruit_prices[fruit] * quantity\n",
        "        else:\n",
        "            print(f\"{fruit}의 가격 정보가 없습니다.\")\n",
        "    return total_price\n",
        "#종류의 수와 과일 가격\n",
        "def fruit_price():\n",
        "    num_fruits = int(input(\"과일의 종류 수를 입력하시오.\"))\n",
        "    fruit_prices = {}\n",
        "    for i in range(num_fruits):\n",
        "        fruit, price = input(\"과일과 가격을 입력하세요(예 : 딸기 100) : \").split()\n",
        "        fruit_prices[fruit] = float(price)\n",
        "    return fruit_prices\n",
        "\n",
        "#과일과 과일의 수\n",
        "def total_fruits():\n",
        "    fruits = {}\n",
        "    while True :\n",
        "        fruit_input = input(\"구매한 과일과 개수를 입력하세요 (종료하려면 '종료' 입력): \")\n",
        "        if fruit_input.lower() == '종료' :\n",
        "            break\n",
        "        fruit, quantity = fruit_input.split()\n",
        "        fruits[fruit] = int(quantity)\n",
        "    return fruits\n",
        "#최종\n",
        "def main():\n",
        "    fruit_prices = fruit_price()\n",
        "    fruits = total_fruits()\n",
        "    total_price = f_total_price(fruits, fruit_prices)\n",
        "    print(\"총 가격은\", int(total_price), \"원입니다.\")\n",
        "\n",
        "main()\n",
        "\n",
        ""
      ]
    }
  ]
}