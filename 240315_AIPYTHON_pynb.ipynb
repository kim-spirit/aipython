{
  "nbformat": 4,
  "nbformat_minor": 0,
  "metadata": {
    "colab": {
      "provenance": []
    },
    "kernelspec": {
      "name": "python3",
      "display_name": "Python 3"
    },
    "language_info": {
      "name": "python"
    }
  },
  "cells": [
    {
      "cell_type": "markdown",
      "source": [
        "\n",
        "###두 수를 입력 받아서 합을 출력하는 프로그램\n",
        "\n",
        "\n",
        "\n",
        "\n",
        "\n"
      ],
      "metadata": {
        "id": "dLe-XCer__Ay"
      }
    },
    {
      "cell_type": "code",
      "execution_count": 4,
      "metadata": {
        "colab": {
          "base_uri": "https://localhost:8080/"
        },
        "id": "h9C_Fdt1-SKm",
        "outputId": "99fc6109-1dfc-4232-c98e-daee069b3d2c"
      },
      "outputs": [
        {
          "output_type": "stream",
          "name": "stdout",
          "text": [
            "1 2\n",
            "두 정수의 합은 3\n"
          ]
        }
      ],
      "source": [
        "A, B = map(int, input().split())\n",
        "sum = A + B\n",
        "print(\"두 정수의 합은\",sum)"
      ]
    },
    {
      "cell_type": "code",
      "source": [
        "print(\"Hello python\")"
      ],
      "metadata": {
        "colab": {
          "base_uri": "https://localhost:8080/"
        },
        "id": "3jpjRUvy_fBT",
        "outputId": "773f87ce-99f1-4ca3-e3d3-09c54deeb9be"
      },
      "execution_count": 3,
      "outputs": [
        {
          "output_type": "stream",
          "name": "stdout",
          "text": [
            "Hello python\n"
          ]
        }
      ]
    },
    {
      "cell_type": "code",
      "source": [],
      "metadata": {
        "id": "szjETRfg_lbI"
      },
      "execution_count": null,
      "outputs": []
    }
  ]
}