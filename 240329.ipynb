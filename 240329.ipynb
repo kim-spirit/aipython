{
  "nbformat": 4,
  "nbformat_minor": 0,
  "metadata": {
    "colab": {
      "provenance": [],
      "authorship_tag": "ABX9TyPLtRqlv2RGrg92U8fTY58M",
      "include_colab_link": true
    },
    "kernelspec": {
      "name": "python3",
      "display_name": "Python 3"
    },
    "language_info": {
      "name": "python"
    }
  },
  "cells": [
    {
      "cell_type": "markdown",
      "metadata": {
        "id": "view-in-github",
        "colab_type": "text"
      },
      "source": [
        "<a href=\"https://colab.research.google.com/github/kim-spirit/aipython/blob/main/240329.ipynb\" target=\"_parent\"><img src=\"https://colab.research.google.com/assets/colab-badge.svg\" alt=\"Open In Colab\"/></a>"
      ]
    },
    {
      "cell_type": "code",
      "execution_count": 16,
      "metadata": {
        "colab": {
          "base_uri": "https://localhost:8080/"
        },
        "id": "rXMD_xyGBlBf",
        "outputId": "dfc18671-50e1-4e38-99e6-6dd5b48bb7af"
      },
      "outputs": [
        {
          "output_type": "stream",
          "name": "stdout",
          "text": [
            "150\n",
            "2시간 30분\n"
          ]
        }
      ],
      "source": [
        " # 내 풀이\n",
        " minutes = int(input())\n",
        " hours = minutes // 60\n",
        " remaining_minutes = minutes % 60\n",
        "print(\"{}시간 {}분\".format(hours, remaining_minutes))\n",
        "\n"
      ]
    },
    {
      "cell_type": "code",
      "source": [
        "# 교수님 풀이\n",
        "m = int(input())\n",
        "h = m // 60\n",
        "rm = m % 60\n",
        "print(\"{:d} -> {:d}시간 {:d}분\".format(h, rm))"
      ],
      "metadata": {
        "colab": {
          "base_uri": "https://localhost:8080/",
          "height": 202
        },
        "id": "U_S-fXEJHQHT",
        "outputId": "f11cb11f-529d-4e7b-f8f1-723a2fc85bf3"
      },
      "execution_count": 14,
      "outputs": [
        {
          "name": "stdout",
          "output_type": "stream",
          "text": [
            "125\n"
          ]
        },
        {
          "output_type": "error",
          "ename": "IndexError",
          "evalue": "Replacement index 2 out of range for positional args tuple",
          "traceback": [
            "\u001b[0;31m---------------------------------------------------------------------------\u001b[0m",
            "\u001b[0;31mIndexError\u001b[0m                                Traceback (most recent call last)",
            "\u001b[0;32m<ipython-input-14-09615f46db82>\u001b[0m in \u001b[0;36m<cell line: 4>\u001b[0;34m()\u001b[0m\n\u001b[1;32m      2\u001b[0m \u001b[0mh\u001b[0m \u001b[0;34m=\u001b[0m \u001b[0mm\u001b[0m \u001b[0;34m//\u001b[0m \u001b[0;36m60\u001b[0m\u001b[0;34m\u001b[0m\u001b[0;34m\u001b[0m\u001b[0m\n\u001b[1;32m      3\u001b[0m \u001b[0mrm\u001b[0m \u001b[0;34m=\u001b[0m \u001b[0mm\u001b[0m \u001b[0;34m%\u001b[0m \u001b[0;36m60\u001b[0m\u001b[0;34m\u001b[0m\u001b[0;34m\u001b[0m\u001b[0m\n\u001b[0;32m----> 4\u001b[0;31m \u001b[0mprint\u001b[0m\u001b[0;34m(\u001b[0m\u001b[0;34m\"{:d} -> {:d}시간 {:d}분\"\u001b[0m\u001b[0;34m.\u001b[0m\u001b[0mformat\u001b[0m\u001b[0;34m(\u001b[0m\u001b[0mh\u001b[0m\u001b[0;34m,\u001b[0m \u001b[0mrm\u001b[0m\u001b[0;34m)\u001b[0m\u001b[0;34m)\u001b[0m\u001b[0;34m\u001b[0m\u001b[0;34m\u001b[0m\u001b[0m\n\u001b[0m",
            "\u001b[0;31mIndexError\u001b[0m: Replacement index 2 out of range for positional args tuple"
          ]
        }
      ]
    },
    {
      "cell_type": "code",
      "source": [
        "# 내 풀이\n",
        "A = int(input())\n",
        "B = 1.8*A + 32\n",
        "print(\"섭씨 %s도는 화씨 %.1d도입니다.\"%(A,B))"
      ],
      "metadata": {
        "colab": {
          "base_uri": "https://localhost:8080/"
        },
        "id": "zhaqx7i1C16d",
        "outputId": "4f1154d2-22eb-4f34-9898-5443f5f46e17"
      },
      "execution_count": 12,
      "outputs": [
        {
          "output_type": "stream",
          "name": "stdout",
          "text": [
            "31\n",
            "섭씨 31도는 화씨 87도입니다.\n"
          ]
        }
      ]
    },
    {
      "cell_type": "code",
      "source": [
        "#교수님 풀이\n",
        "c_t=int(input())\n",
        "f_t=c_t * 1.8 + 32\n",
        "print(\"섭씨 %d 도는 화씨 %.1f도 입니다\" %(c_t, f_t))"
      ],
      "metadata": {
        "colab": {
          "base_uri": "https://localhost:8080/"
        },
        "id": "WNYOgOpLIGMD",
        "outputId": "0791be77-3c5b-4927-ceec-cab2bb8270c6"
      },
      "execution_count": 17,
      "outputs": [
        {
          "output_type": "stream",
          "name": "stdout",
          "text": [
            "32\n",
            "섭씨 32 도는 화씨 89.6도 입니다\n"
          ]
        }
      ]
    },
    {
      "cell_type": "code",
      "source": [
        "# 내 풀이\n",
        "r = int(input())\n",
        "A = 2*3.14*r\n",
        "B = 3.14*r**2    # 우선순위 명확하게 할 것 ( ) 사용\n",
        "print(\"반지름이\", r, \"인 원의 둘레\", A, \"이고\", \"면적은\", B, \"입니다\")"
      ],
      "metadata": {
        "colab": {
          "base_uri": "https://localhost:8080/"
        },
        "id": "TjpHnYUQDZrs",
        "outputId": "450d00fa-3c79-497c-a8d8-7996092a5e2f"
      },
      "execution_count": 25,
      "outputs": [
        {
          "output_type": "stream",
          "name": "stdout",
          "text": [
            "17\n",
            "반지름이 17 인 원의 둘레 106.76 이고 면적은 907.46 입니다\n"
          ]
        }
      ]
    },
    {
      "cell_type": "code",
      "source": [
        "# 교수님 풀이\n",
        "PI = 3.14\n",
        "r = int(input(\"원의 반지름을 입력하시오\"))\n",
        "circumference = 2 * PI * r\n",
        "area = PI * (r ** 2)\n",
        "print(\"반지름이 {}인 원의 둘레 {} 이고, 면적은 {}입니다.\" .format(r, circumference, area))\n"
      ],
      "metadata": {
        "colab": {
          "base_uri": "https://localhost:8080/"
        },
        "id": "RnGRa0m1I0f6",
        "outputId": "436c54e9-ac75-4b78-cb0e-2646c6d437d1"
      },
      "execution_count": 28,
      "outputs": [
        {
          "output_type": "stream",
          "name": "stdout",
          "text": [
            "원의 반지름을 입력하시오16\n",
            "반지름이 16인 원의 둘레 100.48 이고, 면적은 803.84입니다.\n"
          ]
        }
      ]
    },
    {
      "cell_type": "code",
      "source": [],
      "metadata": {
        "id": "YJtlF-BVJnts"
      },
      "execution_count": null,
      "outputs": []
    }
  ]
}