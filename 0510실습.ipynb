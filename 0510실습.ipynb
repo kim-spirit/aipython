{
  "nbformat": 4,
  "nbformat_minor": 0,
  "metadata": {
    "colab": {
      "provenance": [],
      "authorship_tag": "ABX9TyM6pD/l09MCa8izF+za144y",
      "include_colab_link": true
    },
    "kernelspec": {
      "name": "python3",
      "display_name": "Python 3"
    },
    "language_info": {
      "name": "python"
    }
  },
  "cells": [
    {
      "cell_type": "markdown",
      "metadata": {
        "id": "view-in-github",
        "colab_type": "text"
      },
      "source": [
        "<a href=\"https://colab.research.google.com/github/kim-spirit/aipython/blob/main/0510%EC%8B%A4%EC%8A%B5.ipynb\" target=\"_parent\"><img src=\"https://colab.research.google.com/assets/colab-badge.svg\" alt=\"Open In Colab\"/></a>"
      ]
    },
    {
      "cell_type": "code",
      "execution_count": 3,
      "metadata": {
        "colab": {
          "base_uri": "https://localhost:8080/"
        },
        "id": "WPVCNZCyH4Jq",
        "outputId": "b3a207ba-da85-4ebb-e7b1-5a340188bcfa"
      },
      "outputs": [
        {
          "output_type": "stream",
          "name": "stdout",
          "text": [
            "<class 'pandas.core.frame.DataFrame'>\n",
            "RangeIndex: 200 entries, 0 to 199\n",
            "Data columns (total 10 columns):\n",
            " #   Column  Non-Null Count  Dtype         \n",
            "---  ------  --------------  -----         \n",
            " 0   순위      200 non-null    int64         \n",
            " 1   영화명     200 non-null    object        \n",
            " 2   개봉일     200 non-null    datetime64[ns]\n",
            " 3   매출액     200 non-null    int64         \n",
            " 4   관객수     200 non-null    int64         \n",
            " 5   스크린수    200 non-null    int64         \n",
            " 6   상영횟수    200 non-null    int64         \n",
            " 7   대표국적    200 non-null    object        \n",
            " 8   국적      200 non-null    object        \n",
            " 9   배급사     200 non-null    object        \n",
            "dtypes: datetime64[ns](1), int64(5), object(4)\n",
            "memory usage: 15.8+ KB\n"
          ]
        }
      ],
      "source": [
        "# 데이터프레임을 생성한 후, 데이터프레임의 정보를 출력하시오\n",
        "import pandas as pd\n",
        "df = pd.read_excel('BoxOffice.xlsx')\n",
        "df.info()"
      ]
    },
    {
      "cell_type": "code",
      "source": [
        "#대표국적별 영화 편수를 집계하시오,\n",
        "df.value_counts('대표국적')"
      ],
      "metadata": {
        "id": "RYcuqmvMIz2Q"
      },
      "execution_count": null,
      "outputs": []
    },
    {
      "cell_type": "code",
      "source": [
        "# 대표국적이 '영국'인 데이터를 출력하시오.\n",
        "df[df['대표국적']=='영국']"
      ],
      "metadata": {
        "colab": {
          "base_uri": "https://localhost:8080/",
          "height": 81
        },
        "id": "P4TjxTIuI_gw",
        "outputId": "3f7fdcdd-99f5-411c-ac5a-b422ff80a207"
      },
      "execution_count": 4,
      "outputs": [
        {
          "output_type": "execute_result",
          "data": {
            "text/plain": [
              "      순위     영화명        개봉일          매출액      관객수  스크린수   상영횟수 대표국적  국적  \\\n",
              "194  195  어바웃 타임 2013-12-05  25312684300  3449451   568  67267   영국  영국   \n",
              "\n",
              "                     배급사  \n",
              "194  유니버설픽쳐스인터내셔널 코리아(유)  "
            ],
            "text/html": [
              "\n",
              "  <div id=\"df-69ec8618-80f4-4865-8922-954f578d46a1\" class=\"colab-df-container\">\n",
              "    <div>\n",
              "<style scoped>\n",
              "    .dataframe tbody tr th:only-of-type {\n",
              "        vertical-align: middle;\n",
              "    }\n",
              "\n",
              "    .dataframe tbody tr th {\n",
              "        vertical-align: top;\n",
              "    }\n",
              "\n",
              "    .dataframe thead th {\n",
              "        text-align: right;\n",
              "    }\n",
              "</style>\n",
              "<table border=\"1\" class=\"dataframe\">\n",
              "  <thead>\n",
              "    <tr style=\"text-align: right;\">\n",
              "      <th></th>\n",
              "      <th>순위</th>\n",
              "      <th>영화명</th>\n",
              "      <th>개봉일</th>\n",
              "      <th>매출액</th>\n",
              "      <th>관객수</th>\n",
              "      <th>스크린수</th>\n",
              "      <th>상영횟수</th>\n",
              "      <th>대표국적</th>\n",
              "      <th>국적</th>\n",
              "      <th>배급사</th>\n",
              "    </tr>\n",
              "  </thead>\n",
              "  <tbody>\n",
              "    <tr>\n",
              "      <th>194</th>\n",
              "      <td>195</td>\n",
              "      <td>어바웃 타임</td>\n",
              "      <td>2013-12-05</td>\n",
              "      <td>25312684300</td>\n",
              "      <td>3449451</td>\n",
              "      <td>568</td>\n",
              "      <td>67267</td>\n",
              "      <td>영국</td>\n",
              "      <td>영국</td>\n",
              "      <td>유니버설픽쳐스인터내셔널 코리아(유)</td>\n",
              "    </tr>\n",
              "  </tbody>\n",
              "</table>\n",
              "</div>\n",
              "    <div class=\"colab-df-buttons\">\n",
              "\n",
              "  <div class=\"colab-df-container\">\n",
              "    <button class=\"colab-df-convert\" onclick=\"convertToInteractive('df-69ec8618-80f4-4865-8922-954f578d46a1')\"\n",
              "            title=\"Convert this dataframe to an interactive table.\"\n",
              "            style=\"display:none;\">\n",
              "\n",
              "  <svg xmlns=\"http://www.w3.org/2000/svg\" height=\"24px\" viewBox=\"0 -960 960 960\">\n",
              "    <path d=\"M120-120v-720h720v720H120Zm60-500h600v-160H180v160Zm220 220h160v-160H400v160Zm0 220h160v-160H400v160ZM180-400h160v-160H180v160Zm440 0h160v-160H620v160ZM180-180h160v-160H180v160Zm440 0h160v-160H620v160Z\"/>\n",
              "  </svg>\n",
              "    </button>\n",
              "\n",
              "  <style>\n",
              "    .colab-df-container {\n",
              "      display:flex;\n",
              "      gap: 12px;\n",
              "    }\n",
              "\n",
              "    .colab-df-convert {\n",
              "      background-color: #E8F0FE;\n",
              "      border: none;\n",
              "      border-radius: 50%;\n",
              "      cursor: pointer;\n",
              "      display: none;\n",
              "      fill: #1967D2;\n",
              "      height: 32px;\n",
              "      padding: 0 0 0 0;\n",
              "      width: 32px;\n",
              "    }\n",
              "\n",
              "    .colab-df-convert:hover {\n",
              "      background-color: #E2EBFA;\n",
              "      box-shadow: 0px 1px 2px rgba(60, 64, 67, 0.3), 0px 1px 3px 1px rgba(60, 64, 67, 0.15);\n",
              "      fill: #174EA6;\n",
              "    }\n",
              "\n",
              "    .colab-df-buttons div {\n",
              "      margin-bottom: 4px;\n",
              "    }\n",
              "\n",
              "    [theme=dark] .colab-df-convert {\n",
              "      background-color: #3B4455;\n",
              "      fill: #D2E3FC;\n",
              "    }\n",
              "\n",
              "    [theme=dark] .colab-df-convert:hover {\n",
              "      background-color: #434B5C;\n",
              "      box-shadow: 0px 1px 3px 1px rgba(0, 0, 0, 0.15);\n",
              "      filter: drop-shadow(0px 1px 2px rgba(0, 0, 0, 0.3));\n",
              "      fill: #FFFFFF;\n",
              "    }\n",
              "  </style>\n",
              "\n",
              "    <script>\n",
              "      const buttonEl =\n",
              "        document.querySelector('#df-69ec8618-80f4-4865-8922-954f578d46a1 button.colab-df-convert');\n",
              "      buttonEl.style.display =\n",
              "        google.colab.kernel.accessAllowed ? 'block' : 'none';\n",
              "\n",
              "      async function convertToInteractive(key) {\n",
              "        const element = document.querySelector('#df-69ec8618-80f4-4865-8922-954f578d46a1');\n",
              "        const dataTable =\n",
              "          await google.colab.kernel.invokeFunction('convertToInteractive',\n",
              "                                                    [key], {});\n",
              "        if (!dataTable) return;\n",
              "\n",
              "        const docLinkHtml = 'Like what you see? Visit the ' +\n",
              "          '<a target=\"_blank\" href=https://colab.research.google.com/notebooks/data_table.ipynb>data table notebook</a>'\n",
              "          + ' to learn more about interactive tables.';\n",
              "        element.innerHTML = '';\n",
              "        dataTable['output_type'] = 'display_data';\n",
              "        await google.colab.output.renderOutput(dataTable, element);\n",
              "        const docLink = document.createElement('div');\n",
              "        docLink.innerHTML = docLinkHtml;\n",
              "        element.appendChild(docLink);\n",
              "      }\n",
              "    </script>\n",
              "  </div>\n",
              "\n",
              "\n",
              "    </div>\n",
              "  </div>\n"
            ],
            "application/vnd.google.colaboratory.intrinsic+json": {
              "type": "dataframe",
              "summary": "{\n  \"name\": \"df[df['\\ub300\\ud45c\\uad6d\\uc801']=='\\uc601\\uad6d']\",\n  \"rows\": 1,\n  \"fields\": [\n    {\n      \"column\": \"\\uc21c\\uc704\",\n      \"properties\": {\n        \"dtype\": \"number\",\n        \"std\": null,\n        \"min\": 195,\n        \"max\": 195,\n        \"num_unique_values\": 1,\n        \"samples\": [\n          195\n        ],\n        \"semantic_type\": \"\",\n        \"description\": \"\"\n      }\n    },\n    {\n      \"column\": \"\\uc601\\ud654\\uba85\",\n      \"properties\": {\n        \"dtype\": \"string\",\n        \"num_unique_values\": 1,\n        \"samples\": [\n          \"\\uc5b4\\ubc14\\uc6c3 \\ud0c0\\uc784\"\n        ],\n        \"semantic_type\": \"\",\n        \"description\": \"\"\n      }\n    },\n    {\n      \"column\": \"\\uac1c\\ubd09\\uc77c\",\n      \"properties\": {\n        \"dtype\": \"date\",\n        \"min\": \"2013-12-05 00:00:00\",\n        \"max\": \"2013-12-05 00:00:00\",\n        \"num_unique_values\": 1,\n        \"samples\": [\n          \"2013-12-05 00:00:00\"\n        ],\n        \"semantic_type\": \"\",\n        \"description\": \"\"\n      }\n    },\n    {\n      \"column\": \"\\ub9e4\\ucd9c\\uc561\",\n      \"properties\": {\n        \"dtype\": \"number\",\n        \"std\": null,\n        \"min\": 25312684300,\n        \"max\": 25312684300,\n        \"num_unique_values\": 1,\n        \"samples\": [\n          25312684300\n        ],\n        \"semantic_type\": \"\",\n        \"description\": \"\"\n      }\n    },\n    {\n      \"column\": \"\\uad00\\uac1d\\uc218\",\n      \"properties\": {\n        \"dtype\": \"number\",\n        \"std\": null,\n        \"min\": 3449451,\n        \"max\": 3449451,\n        \"num_unique_values\": 1,\n        \"samples\": [\n          3449451\n        ],\n        \"semantic_type\": \"\",\n        \"description\": \"\"\n      }\n    },\n    {\n      \"column\": \"\\uc2a4\\ud06c\\ub9b0\\uc218\",\n      \"properties\": {\n        \"dtype\": \"number\",\n        \"std\": null,\n        \"min\": 568,\n        \"max\": 568,\n        \"num_unique_values\": 1,\n        \"samples\": [\n          568\n        ],\n        \"semantic_type\": \"\",\n        \"description\": \"\"\n      }\n    },\n    {\n      \"column\": \"\\uc0c1\\uc601\\ud69f\\uc218\",\n      \"properties\": {\n        \"dtype\": \"number\",\n        \"std\": null,\n        \"min\": 67267,\n        \"max\": 67267,\n        \"num_unique_values\": 1,\n        \"samples\": [\n          67267\n        ],\n        \"semantic_type\": \"\",\n        \"description\": \"\"\n      }\n    },\n    {\n      \"column\": \"\\ub300\\ud45c\\uad6d\\uc801\",\n      \"properties\": {\n        \"dtype\": \"string\",\n        \"num_unique_values\": 1,\n        \"samples\": [\n          \"\\uc601\\uad6d\"\n        ],\n        \"semantic_type\": \"\",\n        \"description\": \"\"\n      }\n    },\n    {\n      \"column\": \"\\uad6d\\uc801\",\n      \"properties\": {\n        \"dtype\": \"string\",\n        \"num_unique_values\": 1,\n        \"samples\": [\n          \"\\uc601\\uad6d\"\n        ],\n        \"semantic_type\": \"\",\n        \"description\": \"\"\n      }\n    },\n    {\n      \"column\": \"\\ubc30\\uae09\\uc0ac\",\n      \"properties\": {\n        \"dtype\": \"string\",\n        \"num_unique_values\": 1,\n        \"samples\": [\n          \"\\uc720\\ub2c8\\ubc84\\uc124\\ud53d\\uccd0\\uc2a4\\uc778\\ud130\\ub0b4\\uc154\\ub110 \\ucf54\\ub9ac\\uc544(\\uc720)\"\n        ],\n        \"semantic_type\": \"\",\n        \"description\": \"\"\n      }\n    }\n  ]\n}"
            }
          },
          "metadata": {},
          "execution_count": 4
        }
      ]
    },
    {
      "cell_type": "code",
      "source": [
        "#대표국적별 최상위 순위를 출력하시오.\n",
        "df.groupby('대표국적')['순위'].min()"
      ],
      "metadata": {
        "colab": {
          "base_uri": "https://localhost:8080/"
        },
        "id": "jsar8zDbJPyV",
        "outputId": "37646c2e-b4ce-424e-b83f-ba9995d7e100"
      },
      "execution_count": 5,
      "outputs": [
        {
          "output_type": "execute_result",
          "data": {
            "text/plain": [
              "대표국적\n",
              "미국      5\n",
              "영국    195\n",
              "일본    172\n",
              "한국      1\n",
              "Name: 순위, dtype: int64"
            ]
          },
          "metadata": {},
          "execution_count": 5
        }
      ]
    }
  ]
}