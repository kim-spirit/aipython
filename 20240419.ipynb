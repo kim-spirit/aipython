{
  "nbformat": 4,
  "nbformat_minor": 0,
  "metadata": {
    "colab": {
      "provenance": [],
      "authorship_tag": "ABX9TyMgSnYdA3WLiV01w0bzjWa9",
      "include_colab_link": true
    },
    "kernelspec": {
      "name": "python3",
      "display_name": "Python 3"
    },
    "language_info": {
      "name": "python"
    }
  },
  "cells": [
    {
      "cell_type": "markdown",
      "metadata": {
        "id": "view-in-github",
        "colab_type": "text"
      },
      "source": [
        "<a href=\"https://colab.research.google.com/github/kim-spirit/aipython/blob/main/20240419.ipynb\" target=\"_parent\"><img src=\"https://colab.research.google.com/assets/colab-badge.svg\" alt=\"Open In Colab\"/></a>"
      ]
    },
    {
      "cell_type": "code",
      "execution_count": 2,
      "metadata": {
        "colab": {
          "base_uri": "https://localhost:8080/"
        },
        "id": "AhbB75ij8Ncx",
        "outputId": "67d490c4-10e8-4474-adde-6a7f984993ed"
      },
      "outputs": [
        {
          "output_type": "stream",
          "name": "stdout",
          "text": [
            "학생의 점수를 입력하세요.90\n",
            "학생의 점수를 입력하세요.70\n",
            "학생의 점수를 입력하세요.30\n",
            "학생의 점수를 입력하세요.x\n",
            "입력 데이터 출력 :  [90, 70, 30]\n",
            "합계 :  190\n",
            "인원수 :  3\n",
            " 평균 :  63.333333333333336\n"
          ]
        }
      ],
      "source": [
        "#6장_과제\n",
        "\n",
        "score = []\n",
        "while True:\n",
        "  score_input = input(\"학생의 점수를 입력하세요.\")\n",
        "  if score_input.isdigit():\n",
        "    score.append(int(score_input))\n",
        "  else :\n",
        "    break\n",
        "print(\"입력 데이터 출력 : \", score)\n",
        "print(\"합계 : \", sum(score))\n",
        "print(\"인원수 : \", len(score))\n",
        "print(\" 평균 : \", sum(score)/len(score))\n",
        "\n"
      ]
    },
    {
      "cell_type": "code",
      "source": [
        "#입력값이 숫자인지 문자인지 판단하는 매소드\n",
        "if score_input.isdigit():"
      ],
      "metadata": {
        "id": "-0LUpZinA6JL"
      },
      "execution_count": null,
      "outputs": []
    },
    {
      "cell_type": "code",
      "source": [
        "# split\n",
        "txt =  \"apple#banana#cherry#orange\"\n",
        "x = txt.split(\"#\")\n",
        "print(x)"
      ],
      "metadata": {
        "colab": {
          "base_uri": "https://localhost:8080/"
        },
        "id": "g0dKmb2DF8fx",
        "outputId": "c51a01a8-ccb1-4b2d-8bce-f4007b5682a1"
      },
      "execution_count": 3,
      "outputs": [
        {
          "output_type": "stream",
          "name": "stdout",
          "text": [
            "['apple', 'banana', 'cherry', 'orange']\n"
          ]
        }
      ]
    },
    {
      "cell_type": "code",
      "source": [
        "#join\n",
        "x= {'Python', 'Java', 'Ruby'}\n",
        "w = '->'.join(x)\n",
        "print(w)\n"
      ],
      "metadata": {
        "colab": {
          "base_uri": "https://localhost:8080/"
        },
        "id": "Ems4UirqGA-Y",
        "outputId": "8649a1ce-b6f3-44e8-80d4-fb0425ab1e53"
      },
      "execution_count": 7,
      "outputs": [
        {
          "output_type": "stream",
          "name": "stdout",
          "text": [
            "Python->Java->Ruby\n"
          ]
        }
      ]
    },
    {
      "cell_type": "code",
      "source": [
        "#list comprehension\n",
        "number_list = [ x**2 for x in range(10) if x % 2 == 0]\n",
        "print(number_list)"
      ],
      "metadata": {
        "colab": {
          "base_uri": "https://localhost:8080/"
        },
        "id": "2vg1b2j9LITh",
        "outputId": "3e9323e9-1624-469d-ef3f-5a5c846e55c0"
      },
      "execution_count": 8,
      "outputs": [
        {
          "output_type": "stream",
          "name": "stdout",
          "text": [
            "[0, 4, 16, 36, 64]\n"
          ]
        }
      ]
    },
    {
      "cell_type": "code",
      "source": [
        "#list comprehension lab_1\n",
        "num_list = [x for x in range(11) if x % 2 == 0]\n",
        "print(num_list)\n",
        "\n",
        "#list comprehension lab_2\n",
        "citys = [\"Seoul\", \"New York\", \"London\", \"Shanghai\", \"Paris\", \"Tokyo\"]\n",
        "new_list = [city for city in citys if city.startswith(\"S\")]\n",
        "print(new_list)\n"
      ],
      "metadata": {
        "colab": {
          "base_uri": "https://localhost:8080/"
        },
        "id": "jb7zISkkN-Dw",
        "outputId": "efc402d0-1cbc-47ef-a15a-7e8fef87aea7"
      },
      "execution_count": 9,
      "outputs": [
        {
          "output_type": "stream",
          "name": "stdout",
          "text": [
            "[0, 2, 4, 6, 8, 10]\n",
            "['Seoul', 'Shanghai']\n"
          ]
        }
      ]
    },
    {
      "cell_type": "code",
      "source": [
        "#lambda&map lab_2 교수님 답안\n",
        "nums = [1, 2, 3, 4, 5, 6, 7, 8, 9, 10]\n",
        "odd_nums = list(filter(lambda x: x % 2 = 0, nums))\n",
        "print(odd_nums)\n",
        "#ambda&map lab_2 처음에 내가 한 답\n",
        "nums = [1, 2, 3, 4, 5, 6, 7, 8, 9, 10]\n",
        "odd_nums = list(filter(lambda x: x % 2 != 1, nums))\n",
        "print(odd_nums)\n",
        "\n"
      ],
      "metadata": {
        "colab": {
          "base_uri": "https://localhost:8080/"
        },
        "id": "sfNaMW7OP8zj",
        "outputId": "ad864324-a882-4832-84c0-bfffe44bf198"
      },
      "execution_count": 12,
      "outputs": [
        {
          "output_type": "stream",
          "name": "stdout",
          "text": [
            "[2, 4, 6, 8, 10]\n"
          ]
        }
      ]
    },
    {
      "cell_type": "code",
      "source": [
        "#enumerate_1\n",
        "langs = ['Python', 'Java', 'JavaScript']\n",
        "newlst=[(idx, lang) for idx, lang in enumerate(langs)]\n",
        "print(idx, lang)\n",
        "\n",
        "#enumerate_2\n",
        "langs = ['Python', 'Java', 'JavaScript']\n",
        "newlst=[(idx, lang) for idx, lang in enumerate(langs, start=1)]\n",
        "print(idx, lang)"
      ],
      "metadata": {
        "colab": {
          "base_uri": "https://localhost:8080/",
          "height": 221
        },
        "id": "DCITLLwwSCYH",
        "outputId": "3900108f-1b32-448f-c13e-812960d20246"
      },
      "execution_count": 19,
      "outputs": [
        {
          "output_type": "error",
          "ename": "NameError",
          "evalue": "name 'idx' is not defined",
          "traceback": [
            "\u001b[0;31m---------------------------------------------------------------------------\u001b[0m",
            "\u001b[0;31mNameError\u001b[0m                                 Traceback (most recent call last)",
            "\u001b[0;32m<ipython-input-19-69012010d519>\u001b[0m in \u001b[0;36m<cell line: 4>\u001b[0;34m()\u001b[0m\n\u001b[1;32m      2\u001b[0m \u001b[0mlangs\u001b[0m \u001b[0;34m=\u001b[0m \u001b[0;34m[\u001b[0m\u001b[0;34m'Python'\u001b[0m\u001b[0;34m,\u001b[0m \u001b[0;34m'Java'\u001b[0m\u001b[0;34m,\u001b[0m \u001b[0;34m'JavaScript'\u001b[0m\u001b[0;34m]\u001b[0m\u001b[0;34m\u001b[0m\u001b[0;34m\u001b[0m\u001b[0m\n\u001b[1;32m      3\u001b[0m \u001b[0mnewlst\u001b[0m\u001b[0;34m=\u001b[0m\u001b[0;34m[\u001b[0m\u001b[0;34m(\u001b[0m\u001b[0midx\u001b[0m\u001b[0;34m,\u001b[0m \u001b[0mlang\u001b[0m\u001b[0;34m)\u001b[0m \u001b[0;32mfor\u001b[0m \u001b[0midx\u001b[0m\u001b[0;34m,\u001b[0m \u001b[0mlang\u001b[0m \u001b[0;32min\u001b[0m \u001b[0menumerate\u001b[0m\u001b[0;34m(\u001b[0m\u001b[0mlangs\u001b[0m\u001b[0;34m)\u001b[0m\u001b[0;34m]\u001b[0m\u001b[0;34m\u001b[0m\u001b[0;34m\u001b[0m\u001b[0m\n\u001b[0;32m----> 4\u001b[0;31m \u001b[0mprint\u001b[0m\u001b[0;34m(\u001b[0m\u001b[0midx\u001b[0m\u001b[0;34m,\u001b[0m \u001b[0mlang\u001b[0m\u001b[0;34m)\u001b[0m\u001b[0;34m\u001b[0m\u001b[0;34m\u001b[0m\u001b[0m\n\u001b[0m\u001b[1;32m      5\u001b[0m \u001b[0;34m\u001b[0m\u001b[0m\n\u001b[1;32m      6\u001b[0m \u001b[0;31m#enumerate_2\u001b[0m\u001b[0;34m\u001b[0m\u001b[0;34m\u001b[0m\u001b[0m\n",
            "\u001b[0;31mNameError\u001b[0m: name 'idx' is not defined"
          ]
        }
      ]
    },
    {
      "cell_type": "code",
      "source": [
        "#lambda & map lap_3\n",
        "def convert_to_grade(score):\n",
        "    if score >= 90:\n",
        "        return 'A'\n",
        "    elif score >= 80:\n",
        "        return 'B'\n",
        "    elif score >= 70:\n",
        "        return 'C'\n",
        "    elif score >= 60:\n",
        "        return 'D'\n",
        "    else:\n",
        "        return 'F'\n",
        "scores = [88, 92, 78, 60, 75, 95]\n",
        "result = list(map(convert_to_grade, scores))\n",
        "print(result)"
      ],
      "metadata": {
        "colab": {
          "base_uri": "https://localhost:8080/"
        },
        "id": "HCOpBxJBUnw-",
        "outputId": "2eaeed21-8482-4116-889f-43e981763122"
      },
      "execution_count": 23,
      "outputs": [
        {
          "output_type": "stream",
          "name": "stdout",
          "text": [
            "['B', 'A', 'C', 'D', 'C', 'A']\n"
          ]
        }
      ]
    },
    {
      "cell_type": "code",
      "source": [
        "# Filter lab_1(lambda 사용)\n",
        "\n",
        "ages = [5, 12, 17, 18, 24, 32]\n",
        "new_ages = list(filter(lambda x : x >= 18, ages))\n",
        "print(new_ages)\n",
        "\n",
        "# myFUNC 이용\n",
        "def myFunc(x):\n",
        "    if x < 18:\n",
        "        return False\n",
        "    else:\n",
        "        return True\n",
        "ages = [5, 12, 17, 18, 24, 32]\n",
        "new_ages = list(filter(myFunc, ages))\n",
        "print(new_ages)\n"
      ],
      "metadata": {
        "colab": {
          "base_uri": "https://localhost:8080/"
        },
        "id": "-kIcrkM2VgOX",
        "outputId": "e2d90044-d285-4478-93cb-b7c203111046"
      },
      "execution_count": 24,
      "outputs": [
        {
          "output_type": "stream",
          "name": "stdout",
          "text": [
            "[18, 24, 32]\n",
            "[18, 24, 32]\n"
          ]
        }
      ]
    }
  ]
}